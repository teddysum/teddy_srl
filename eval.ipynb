{
 "cells": [
  {
   "cell_type": "code",
   "execution_count": 6,
   "metadata": {},
   "outputs": [],
   "source": [
    "from seqeval.metrics import accuracy_score\n",
    "from seqeval.metrics import classification_report\n",
    "from seqeval.metrics import f1_score\n",
    "import ast"
   ]
  },
  {
   "cell_type": "code",
   "execution_count": 9,
   "metadata": {},
   "outputs": [
    {
     "data": {
      "text/plain": [
       "list"
      ]
     },
     "execution_count": 9,
     "metadata": {},
     "output_type": "execute_result"
    }
   ],
   "source": [
    "x = '[ \"A\",\"B\",\"C\" , \" D\"]'\n",
    "x = ast.literal_eval(x)\n",
    "type(x)"
   ]
  },
  {
   "cell_type": "code",
   "execution_count": 14,
   "metadata": {},
   "outputs": [
    {
     "name": "stdout",
     "output_type": "stream",
     "text": [
      "accuracy: 0.8418085233506785\n",
      "F1: 0.6831735328205668\n",
      "### report ###\n",
      "             precision    recall  f1-score   support\n",
      "\n",
      "       ARG2       0.71      0.71      0.71       911\n",
      "       ARG1       0.74      0.76      0.75      3333\n",
      "       ARG0       0.75      0.73      0.74      1444\n",
      "   ARGM_CAU       0.25      0.33      0.29       187\n",
      "   ARGM_DIS       0.37      0.37      0.37       546\n",
      "        AUX       0.96      0.96      0.96       758\n",
      "   ARGM_LOC       0.50      0.66      0.57       206\n",
      "   ARGM_TMP       0.66      0.68      0.67       882\n",
      "   ARGM_EXT       0.68      0.63      0.66       202\n",
      "   ARGM_MNR       0.50      0.61      0.55       201\n",
      "   ARGM_CND       0.35      0.47      0.40        81\n",
      "   ARGM_ADV       0.43      0.46      0.45       166\n",
      "   ARGM_INS       0.22      0.31      0.26       119\n",
      "   ARGM_PRP       0.38      0.54      0.44        70\n",
      "   ARGM_PRD       0.10      0.16      0.12        56\n",
      "       ARG3       0.65      0.53      0.58        78\n",
      "   ARGM_DIR       0.14      0.14      0.14        14\n",
      "   ARGM_NEG       0.00      0.00      0.00         3\n",
      "       ARGA       0.77      0.71      0.74        28\n",
      "\n",
      "avg / total       0.68      0.70      0.69      9285\n",
      "\n"
     ]
    }
   ],
   "source": [
    "def eval(fname):\n",
    "    with open(fname, 'r') as f:\n",
    "        next(f)\n",
    "        next(f)\n",
    "        d = f.readlines()\n",
    "    y_true, y_pred = [],[]\n",
    "    for line in d:\n",
    "        gold, pred = line.split('\\t')[0], line.split('\\t')[1]\n",
    "        gold = ast.literal_eval(gold)\n",
    "        pred = ast.literal_eval(pred)\n",
    "        y_true.append(gold)\n",
    "        y_pred.append(pred)\n",
    "\n",
    "        \n",
    "    acc = accuracy_score(y_true, y_pred)\n",
    "    f1 = f1_score(y_true, y_pred)\n",
    "    print('accuracy:', acc)\n",
    "    print('F1:', f1)\n",
    "    print('### report ###')\n",
    "    print(classification_report(y_true, y_pred, digits=2))\n",
    "    \n",
    "    \n",
    "    \n",
    "fname = './eval_result/19-result.txt'\n",
    "eval(fname)"
   ]
  }
 ],
 "metadata": {
  "kernelspec": {
   "display_name": "Python 3",
   "language": "python",
   "name": "python3"
  },
  "language_info": {
   "codemirror_mode": {
    "name": "ipython",
    "version": 3
   },
   "file_extension": ".py",
   "mimetype": "text/x-python",
   "name": "python",
   "nbconvert_exporter": "python",
   "pygments_lexer": "ipython3",
   "version": "3.6.5"
  }
 },
 "nbformat": 4,
 "nbformat_minor": 2
}
